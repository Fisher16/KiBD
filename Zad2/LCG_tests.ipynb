{
 "cells": [
  {
   "cell_type": "markdown",
   "metadata": {},
   "source": [
    "## Linear congruential generator\n",
    "\n",
    "http://www.algorytm.org/liczby-pseudolosowe/generator-lcg-liniowy-generator-kongruentny.html \\\n",
    "https://rosettacode.org/wiki/Linear_congruential_generator \n",
    "\n",
    "x<sub>i</sub>=(ax<sub>i-1</sub>-c) mod m\n",
    "\n",
    "Borland C/C++ initial values:\n",
    "* a=22695477 \n",
    "* m=2^32 \n",
    "* c=1 "
   ]
  },
  {
   "cell_type": "code",
   "execution_count": 101,
   "metadata": {},
   "outputs": [],
   "source": [
    "a,c,x,m=19,1,0,381 #really bad initial conditions\n",
    "#a,c,x,m=22695477,1,42,2**32 #too good\n",
    "#a,c,x,m=3,1,42,2**32 #random \"a\" by fair dice roll\n",
    "\n",
    "def get_prnd():\n",
    "    global x\n",
    "    x=(a*x+c)%m\n",
    "    yield x"
   ]
  },
  {
   "cell_type": "code",
   "execution_count": 102,
   "metadata": {},
   "outputs": [
    {
     "data": {
      "text/plain": [
       "1"
      ]
     },
     "execution_count": 102,
     "metadata": {},
     "output_type": "execute_result"
    }
   ],
   "source": [
    "next(get_prnd()) #953210035"
   ]
  },
  {
   "cell_type": "code",
   "execution_count": 103,
   "metadata": {},
   "outputs": [
    {
     "data": {
      "text/plain": [
       "[20, 0, 1, 20, 0, 1, 20, 0, 1, 20]"
      ]
     },
     "execution_count": 103,
     "metadata": {},
     "output_type": "execute_result"
    }
   ],
   "source": [
    "list(get_pseudorandom(10))"
   ]
  },
  {
   "cell_type": "code",
   "execution_count": 104,
   "metadata": {},
   "outputs": [],
   "source": [
    "def get_pseudorandom(N=1):\n",
    "    return (next(get_prnd()) for _ in range(N)) if N>1 else next(get_prnd())"
   ]
  },
  {
   "cell_type": "code",
   "execution_count": 105,
   "metadata": {},
   "outputs": [],
   "source": [
    "import subprocess\n",
    "import sys\n",
    "\n",
    "def acc_FIPS(lst):\n",
    "    out,_=subprocess.Popen([\"rngtest\"],\n",
    "                 stdin=subprocess.PIPE,\n",
    "                 stdout=subprocess.PIPE,\n",
    "                 stderr=subprocess.STDOUT).communicate(b\"\".join(map(lambda x: x.to_bytes(4,'little'),lst)))\n",
    "    out=out.decode('utf-8')\n",
    "    print(out)\n",
    "    succ,fail=[int(line.split()[-1]) for line in out.splitlines()[7:9]]\n",
    "    return succ/(succ+fail) if (succ+fail)>0 else 0"
   ]
  },
  {
   "cell_type": "code",
   "execution_count": 106,
   "metadata": {},
   "outputs": [
    {
     "name": "stdout",
     "output_type": "stream",
     "text": [
      "rngtest 5\n",
      "Copyright (c) 2004 by Henrique de Moraes Holschuh\n",
      "This is free software; see the source for copying conditions.  There is NO warranty; not even for MERCHANTABILITY or FITNESS FOR A PARTICULAR PURPOSE.\n",
      "\n",
      "rngtest: starting FIPS tests...\n",
      "rngtest: entropy source drained\n",
      "rngtest: bits received from input: 320000000\n",
      "rngtest: FIPS 140-2 successes: 0\n",
      "rngtest: FIPS 140-2 failures: 15999\n",
      "rngtest: FIPS 140-2(2001-10-10) Monobit: 15999\n",
      "rngtest: FIPS 140-2(2001-10-10) Poker: 15999\n",
      "rngtest: FIPS 140-2(2001-10-10) Runs: 15999\n",
      "rngtest: FIPS 140-2(2001-10-10) Long run: 15999\n",
      "rngtest: FIPS 140-2(2001-10-10) Continuous run: 0\n",
      "rngtest: input channel speed: (min=1818181818.182; avg=15504409341.991; max=0.000)bits/s\n",
      "rngtest: FIPS tests speed: (min=60.169; avg=221.434; max=241.437)Mibits/s\n",
      "rngtest: Program run time: 8185484 microseconds\n",
      "\n",
      "CPU times: user 6.58 s, sys: 312 ms, total: 6.89 s\n",
      "Wall time: 8.19 s\n"
     ]
    },
    {
     "data": {
      "text/plain": [
       "0.0"
      ]
     },
     "execution_count": 106,
     "metadata": {},
     "output_type": "execute_result"
    }
   ],
   "source": [
    "%%time\n",
    "acc_FIPS(get_pseudorandom(10**7))"
   ]
  },
  {
   "cell_type": "markdown",
   "metadata": {},
   "source": [
    "## Improvements"
   ]
  },
  {
   "cell_type": "code",
   "execution_count": 107,
   "metadata": {},
   "outputs": [],
   "source": [
    "from glob import iglob \n",
    "import gzip\n",
    "import os\n",
    "\n",
    "pathgz_iter = ( path for path in iglob('/home/**',recursive=True) \n",
    "                  if len(path)>3 and path[-3:]=='.gz' and os.path.getsize(path)>102400 )"
   ]
  },
  {
   "cell_type": "code",
   "execution_count": 108,
   "metadata": {},
   "outputs": [],
   "source": [
    "def get_compressed_32bits():\n",
    "    for path in pathgz_iter:\n",
    "        print(path,os.path.getsize(path))\n",
    "        with open(path,'rb') as f:\n",
    "            #headers and stuff\n",
    "            #TODO:check later exact size\n",
    "            #from this http://www.onicos.com/staff/iz/formats/gzip.html\n",
    "            f.read(100)\n",
    "            #payload\n",
    "            while True:\n",
    "                seed=f.read(4)\n",
    "                if not seed:\n",
    "                    break\n",
    "                yield int.from_bytes(seed,byteorder='little')"
   ]
  },
  {
   "cell_type": "code",
   "execution_count": 109,
   "metadata": {},
   "outputs": [],
   "source": [
    "def get_improved(N=10):\n",
    "    for i,vals in enumerate(zip(get_pseudorandom(N),get_compressed_32bits())):\n",
    "        if i==N:\n",
    "            break\n",
    "        pseudo,seed = vals\n",
    "        yield pseudo ^ seed"
   ]
  },
  {
   "cell_type": "code",
   "execution_count": 110,
   "metadata": {},
   "outputs": [
    {
     "name": "stdout",
     "output_type": "stream",
     "text": [
      "/home/fisher/projects/repo/master/mosesdecoder/scripts/tests/cs-en-sample/lm.en.gz 237898\n",
      "/home/fisher/projects/repo/dev/cmake_update/cmake-3.16.4.tar.gz 9113021\n",
      "/home/fisher/projects/wykop/mongo_dump/dump/wykop/post.bson.gz 918184403\n",
      "rngtest 5\n",
      "Copyright (c) 2004 by Henrique de Moraes Holschuh\n",
      "This is free software; see the source for copying conditions.  There is NO warranty; not even for MERCHANTABILITY or FITNESS FOR A PARTICULAR PURPOSE.\n",
      "\n",
      "rngtest: starting FIPS tests...\n",
      "rngtest: entropy source drained\n",
      "rngtest: bits received from input: 320000000\n",
      "rngtest: FIPS 140-2 successes: 11590\n",
      "rngtest: FIPS 140-2 failures: 4409\n",
      "rngtest: FIPS 140-2(2001-10-10) Monobit: 2965\n",
      "rngtest: FIPS 140-2(2001-10-10) Poker: 2822\n",
      "rngtest: FIPS 140-2(2001-10-10) Runs: 2801\n",
      "rngtest: FIPS 140-2(2001-10-10) Long run: 7\n",
      "rngtest: FIPS 140-2(2001-10-10) Continuous run: 6\n",
      "rngtest: input channel speed: (min=2222222222.222; avg=15206729398.346; max=0.000)bits/s\n",
      "rngtest: FIPS tests speed: (min=34.060; avg=90.531; max=98.317)Mibits/s\n",
      "rngtest: Program run time: 16988209 microseconds\n",
      "\n",
      "CPU times: user 13.3 s, sys: 488 ms, total: 13.8 s\n",
      "Wall time: 17 s\n"
     ]
    },
    {
     "data": {
      "text/plain": [
       "0.7244202762672667"
      ]
     },
     "execution_count": 110,
     "metadata": {},
     "output_type": "execute_result"
    }
   ],
   "source": [
    "%%time\n",
    "acc_FIPS(get_improved(10**7))"
   ]
  },
  {
   "cell_type": "markdown",
   "metadata": {},
   "source": [
    "## Conclusions\n",
    "\n",
    "TODO:check if **a** needs to be prime\n",
    "\n",
    "* for Borland C/C++ initial values we get simmilar accuracy as /dev/random 99.9%\n",
    "* bad initial conditions we get LCG with 0% accuracy on FIPS and can't get to /dev/random level with our improvements (max<sub>acc</sub>=70%)\n",
    "* transition case **a** = 3 and **m** = 2^32 still below 1% acc on FIPS, however after our improvements we get 99.9% acc"
   ]
  },
  {
   "cell_type": "code",
   "execution_count": null,
   "metadata": {},
   "outputs": [],
   "source": []
  }
 ],
 "metadata": {
  "kernelspec": {
   "display_name": "Python 3",
   "language": "python",
   "name": "python3"
  },
  "language_info": {
   "codemirror_mode": {
    "name": "ipython",
    "version": 3
   },
   "file_extension": ".py",
   "mimetype": "text/x-python",
   "name": "python",
   "nbconvert_exporter": "python",
   "pygments_lexer": "ipython3",
   "version": "3.7.3"
  }
 },
 "nbformat": 4,
 "nbformat_minor": 2
}
