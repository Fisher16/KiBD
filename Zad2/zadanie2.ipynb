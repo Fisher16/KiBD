{
 "cells": [
  {
   "cell_type": "code",
   "execution_count": 13,
   "metadata": {},
   "outputs": [],
   "source": [
    "N = int(4096/8)"
   ]
  },
  {
   "cell_type": "code",
   "execution_count": 14,
   "metadata": {},
   "outputs": [
    {
     "name": "stdout",
     "output_type": "stream",
     "text": [
      "rngtest 5\r\n",
      "Copyright (c) 2004 by Henrique de Moraes Holschuh\r\n",
      "This is free software; see the source for copying conditions.  There is NO warranty; not even for MERCHANTABILITY or FITNESS FOR A PARTICULAR PURPOSE.\r\n",
      "\r\n",
      "rngtest: starting FIPS tests...\r\n",
      "rngtest: entropy source drained\r\n",
      "rngtest: bits received from input: 4096\r\n",
      "rngtest: FIPS 140-2 successes: 0\r\n",
      "rngtest: FIPS 140-2 failures: 0\r\n",
      "rngtest: FIPS 140-2(2001-10-10) Monobit: 0\r\n",
      "rngtest: FIPS 140-2(2001-10-10) Poker: 0\r\n",
      "rngtest: FIPS 140-2(2001-10-10) Runs: 0\r\n",
      "rngtest: FIPS 140-2(2001-10-10) Long run: 0\r\n",
      "rngtest: FIPS 140-2(2001-10-10) Continuous run: 0\r\n",
      "rngtest: input channel speed: (min=0.000; avg=0.000; max=0.000)bits/s\r\n",
      "rngtest: FIPS tests speed: (min=0.000; avg=0.000; max=0.000)bits/s\r\n",
      "rngtest: Program run time: 837 microseconds\r\n"
     ]
    }
   ],
   "source": [
    "!head -c$N /dev/random | rngtest"
   ]
  },
  {
   "cell_type": "code",
   "execution_count": null,
   "metadata": {},
   "outputs": [],
   "source": []
  }
 ],
 "metadata": {
  "kernelspec": {
   "display_name": "Python 3",
   "language": "python",
   "name": "python3"
  },
  "language_info": {
   "codemirror_mode": {
    "name": "ipython",
    "version": 3
   },
   "file_extension": ".py",
   "mimetype": "text/x-python",
   "name": "python",
   "nbconvert_exporter": "python",
   "pygments_lexer": "ipython3",
   "version": "3.7.6"
  }
 },
 "nbformat": 4,
 "nbformat_minor": 4
}
