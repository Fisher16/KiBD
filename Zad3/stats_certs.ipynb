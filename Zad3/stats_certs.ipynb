{
 "cells": [
  {
   "cell_type": "code",
   "execution_count": 56,
   "metadata": {},
   "outputs": [],
   "source": [
    "import pymongo \n",
    "db=pymongo.MongoClient()['crypto']\n",
    "certs=db['certs']"
   ]
  },
  {
   "cell_type": "code",
   "execution_count": 64,
   "metadata": {},
   "outputs": [
    {
     "data": {
      "text/plain": [
       "122030"
      ]
     },
     "execution_count": 64,
     "metadata": {},
     "output_type": "execute_result"
    }
   ],
   "source": [
    "count_rsa=certs.count_documents({'rsa_PEM':{\"$exists\":True}})\n",
    "count_rsa"
   ]
  },
  {
   "cell_type": "code",
   "execution_count": 68,
   "metadata": {},
   "outputs": [
    {
     "data": {
      "text/plain": [
       "{2048: (89875, 73.6),\n",
       " 4096: (31661, 25.9),\n",
       " 1024: (114, 0.1),\n",
       " 3072: (377, 0.3),\n",
       " 4086: (1, 0.0),\n",
       " 8192: (1, 0.0),\n",
       " 2560: (1, 0.0)}"
      ]
     },
     "execution_count": 68,
     "metadata": {},
     "output_type": "execute_result"
    }
   ],
   "source": [
    "from collections import Counter\n",
    "bits_list=[ doc.get('bits',-1) for doc in \n",
    "           certs.find({'rsa_PEM':{\"$exists\":True}},{\"bits\":1})]\n",
    "{k:(v,round(100*v/count_rsa,1)) for k,v in Counter(bits_list).items()}"
   ]
  },
  {
   "cell_type": "code",
   "execution_count": 70,
   "metadata": {},
   "outputs": [
    {
     "data": {
      "text/plain": [
       "116976"
      ]
     },
     "execution_count": 70,
     "metadata": {},
     "output_type": "execute_result"
    }
   ],
   "source": [
    "keyHashes=certs.distinct('keyHash')\n",
    "len(keyHashes)"
   ]
  },
  {
   "cell_type": "code",
   "execution_count": 71,
   "metadata": {},
   "outputs": [
    {
     "data": {
      "text/plain": [
       "17598"
      ]
     },
     "execution_count": 71,
     "metadata": {},
     "output_type": "execute_result"
    }
   ],
   "source": [
    "certs.estimated_document_count()-len(keyHashes)"
   ]
  },
  {
   "cell_type": "code",
   "execution_count": 7,
   "metadata": {},
   "outputs": [
    {
     "data": {
      "text/plain": [
       "dict_keys(['_id', 'url', 'cert_PEM', 'keyHash', 'bits', 'is_only_pub', 'key_type', 'key_PEM', 'rsa_PEM'])"
      ]
     },
     "execution_count": 7,
     "metadata": {},
     "output_type": "execute_result"
    }
   ],
   "source": [
    "certs.find_one().keys()"
   ]
  },
  {
   "cell_type": "code",
   "execution_count": 15,
   "metadata": {},
   "outputs": [
    {
     "name": "stdout",
     "output_type": "stream",
     "text": [
      "CPU times: user 25.5 s, sys: 2.37 s, total: 27.8 s\n",
      "Wall time: 41 s\n"
     ]
    }
   ],
   "source": [
    "%%time\n",
    "susp=[]\n",
    "for k in keyHashes:\n",
    "    docs=list(certs.find({'keyHash':k}))\n",
    "    if len(docs)>1:\n",
    "        susp.append(docs)"
   ]
  },
  {
   "cell_type": "code",
   "execution_count": 24,
   "metadata": {},
   "outputs": [],
   "source": [
    "from itertools import combinations\n",
    "\n",
    "def is_duplicate_urls(lst):\n",
    "    urls=[d['url'][8:].replace('www.','') for d in lst]\n",
    "    return all([(f in s or s in f) for f,s in combinations(urls,2)])\n",
    "    \n",
    "dedup_url=[s for s in susp if not is_duplicate_urls(s)]"
   ]
  },
  {
   "cell_type": "code",
   "execution_count": 27,
   "metadata": {
    "scrolled": false
   },
   "outputs": [
    {
     "data": {
      "text/plain": [
       "2882"
      ]
     },
     "execution_count": 27,
     "metadata": {},
     "output_type": "execute_result"
    }
   ],
   "source": [
    "len(dedup_url)"
   ]
  },
  {
   "cell_type": "code",
   "execution_count": 33,
   "metadata": {},
   "outputs": [],
   "source": [
    "def is_duplicate_urls2(lst):\n",
    "    urls=[set(d['url'][8:].replace('www.','').replace('.pl','').split('.')) for d in lst]\n",
    "    return any([bool(f.intersection(s)) for f,s in combinations(urls,2)])"
   ]
  },
  {
   "cell_type": "code",
   "execution_count": 34,
   "metadata": {},
   "outputs": [],
   "source": [
    "dedup_url2=[s for s in dedup_url if not is_duplicate_urls2(s)]"
   ]
  },
  {
   "cell_type": "code",
   "execution_count": 38,
   "metadata": {},
   "outputs": [
    {
     "data": {
      "text/plain": [
       "731"
      ]
     },
     "execution_count": 38,
     "metadata": {},
     "output_type": "execute_result"
    }
   ],
   "source": [
    "len(dedup_url2)"
   ]
  },
  {
   "cell_type": "code",
   "execution_count": 55,
   "metadata": {},
   "outputs": [
    {
     "data": {
      "text/plain": [
       "Text(0.5, 1.0, 'Hist of true duplicates - log')"
      ]
     },
     "execution_count": 55,
     "metadata": {},
     "output_type": "execute_result"
    },
    {
     "data": {
      "image/png": "[encoded data removed]",
      "text/plain": [
       "<Figure size 432x288 with 1 Axes>"
      ]
     },
     "metadata": {
      "needs_background": "light"
     },
     "output_type": "display_data"
    }
   ],
   "source": [
    "import pandas as pd\n",
    "df=pd.Series(map(len,dedup_url2))\n",
    "ax=df.hist(bins=8,range=(2,11),log=True)\n",
    "ax.set_title('Hist of true duplicates - log')"
   ]
  },
  {
   "cell_type": "code",
   "execution_count": 42,
   "metadata": {},
   "outputs": [
    {
     "name": "stdout",
     "output_type": "stream",
     "text": [
      "anielaolsztynek.pl ipresso.pl ranczokamienczyk.pl xpictures.pl applay.pl biorekredyt.pl brb.fundacjazendriving.pl fullstak.pl gsi-goszczynski.pl infobot.pl katowice.meetjs.pl ligagraczy.pl powtorkazpolskiego.pl sesja.dastudnia.pl www.smart.biz.pl tanieelewacje.pl times.edu.pl\n",
      "\n",
      "devfest.wroclaw.pl fmpmsa.pl misja-kerygma.pl portuj.pl repsol-car.pl weedweek.pl chmurakrajowa.pl esportgamesclub.pl kartawfrp.pl kwzgoda.pl caninto.space osiedleczekanow.pl standardexpress.pl\n",
      "\n",
      "akcesoria-dachowe.pl allekwiaty.pl galt.pl hardgirl.pl mok.opole.pl pix.mtlumaczenia.pl pysznica.pl grono.gda.pl osir.szczecinek.pl www.radosc.edu.pl www.sinprogres.pl\n",
      "\n",
      "bitmarket.pl bymagdabereda.pl epidemiasportu.pl furnituro.pl testingspace.pl aptekazdrowie.pl epizza.szczecin.pl erospace.pl michalboni.pl online-vod.pl reg-me.pl strefamariza.pl studio-prestige.pl\n",
      "\n",
      "chicestilo.pl kotwarszawski.pl kotwicapiekna.pl lifestyleterii.pl papieroweskarby.pl caipiroska.pl carpe--diem.pl chinguuiblog.pl ilta4crochet.pl piecpopiatej.pl zielonajagoda.pl\n",
      "\n",
      "3x3basket.pl agromotor.pl www.a-zone.pl bailamos.pl fotogaleria.h2.pl krotoszyn.net.pl:2096 liedmann.pl mail.grudziadz.com.pl:2096 opusorgani.wroclaw.pl zenblog.pl bip.puppabianice.pl blog.kominy-panek.pl churski.pl nowapoczta.ogicom.pl ojcowskiparknarodowy.pl ozonclinic.pl poparzeni.pl psp-debie.pl pzsplegionowo.pl smp.edu.pl superhost.pl techwriter.pl ultramontes.pl\n",
      "\n",
      "adl-av.pl aloaudio.pl 64audio.pl astellnkern.pl auralic.pl ieast.pl campfireaudio.pl cowon.pl divoom.pl fiio.pl smsl.pl soundmagic.pl takstar.pl wooaudio.pl\n",
      "\n",
      "adamprzemyk.pl elektro-holding.pl en.mebleodnowa.lkucza.lk.pl stat59327.tld.pl brandpoint.pl centrumwiniarstwa.pl ips.kei.pl lcmedia.pl mistrzseksu.pl ostrowmaz.pl ostrowski.sld.org.pl othermedia.pl rehabilitacje-krakow.pl tabor-debica.pl\n",
      "\n",
      "bluzki.net.pl plus44.pl sanescobar.pl urbanmen.pl wbiegu.pl dzisiajkupie.pl i-butik.pl manstyle.pl stylists.pl styloholiczki.pl stylovezakupy.pl tylkodlakobiety.pl usmiechnietedziecko.pl\n"
     ]
    }
   ],
   "source": [
    "print('\\n\\n'.join([' '.join([dd['url'][8:] for dd in d]) for d in dedup_url2 if len(d)>10]))"
   ]
  },
  {
   "cell_type": "code",
   "execution_count": null,
   "metadata": {},
   "outputs": [],
   "source": []
  }
 ],
 "metadata": {
  "kernelspec": {
   "display_name": "Python 3",
   "language": "python",
   "name": "python3"
  },
  "language_info": {
   "codemirror_mode": {
    "name": "ipython",
    "version": 3
   },
   "file_extension": ".py",
   "mimetype": "text/x-python",
   "name": "python",
   "nbconvert_exporter": "python",
   "pygments_lexer": "ipython3",
   "version": "3.7.3"
  }
 },
 "nbformat": 4,
 "nbformat_minor": 2
}
