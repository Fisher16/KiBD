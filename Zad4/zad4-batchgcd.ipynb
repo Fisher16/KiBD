{
 "cells": [
  {
   "cell_type": "code",
   "execution_count": 1,
   "metadata": {},
   "outputs": [],
   "source": [
    "import json\n",
    "import pandas as pd\n",
    "import numpy as np\n",
    "import math\n",
    "import base64\n",
    "import re\n",
    "import rsa"
   ]
  },
  {
   "cell_type": "code",
   "execution_count": 2,
   "metadata": {},
   "outputs": [],
   "source": [
    "with open('Zad3/certs.02_2020.json') as json_file:\n",
    "    data_certs = [json.loads(line) for line in json_file]"
   ]
  },
  {
   "cell_type": "code",
   "execution_count": 3,
   "metadata": {},
   "outputs": [
    {
     "data": {
      "text/plain": [
       "dict_keys(['_id', 'url', 'cert_PEM', 'keyHash', 'bits', 'is_only_pub', 'key_type', 'key_PEM', 'rsa_PEM'])"
      ]
     },
     "execution_count": 3,
     "metadata": {},
     "output_type": "execute_result"
    }
   ],
   "source": [
    "data_certs[0].keys()"
   ]
  },
  {
   "cell_type": "code",
   "execution_count": 4,
   "metadata": {},
   "outputs": [],
   "source": [
    "df_certs = pd.DataFrame(data_certs, dtype='object')"
   ]
  },
  {
   "cell_type": "code",
   "execution_count": 5,
   "metadata": {},
   "outputs": [
    {
     "data": {
      "text/plain": [
       "_id            134574\n",
       "url            134574\n",
       "cert_PEM       134574\n",
       "keyHash        134574\n",
       "bits           134574\n",
       "is_only_pub    134574\n",
       "key_type       134574\n",
       "key_PEM        134574\n",
       "rsa_PEM        122030\n",
       "dtype: int64"
      ]
     },
     "execution_count": 5,
     "metadata": {},
     "output_type": "execute_result"
    }
   ],
   "source": [
    "df_certs.count()"
   ]
  },
  {
   "cell_type": "code",
   "execution_count": 7,
   "metadata": {},
   "outputs": [],
   "source": [
    "#remove elliptical curves (no RSA key)\n",
    "df_certs = df_certs[df_certs['rsa_PEM'].notnull()]"
   ]
  },
  {
   "cell_type": "code",
   "execution_count": 11,
   "metadata": {},
   "outputs": [
    {
     "data": {
      "text/plain": [
       "_id            106447\n",
       "url            106447\n",
       "cert_PEM       106447\n",
       "keyHash        106447\n",
       "bits           106447\n",
       "is_only_pub    106447\n",
       "key_type       106447\n",
       "key_PEM        106447\n",
       "rsa_PEM        106447\n",
       "dtype: int64"
      ]
     },
     "execution_count": 11,
     "metadata": {},
     "output_type": "execute_result"
    }
   ],
   "source": [
    "#remove duplicates\n",
    "df_certs = df_certs.drop_duplicates(subset='rsa_PEM', keep=\"first\")\n",
    "df_certs.count()"
   ]
  },
  {
   "cell_type": "code",
   "execution_count": 15,
   "metadata": {},
   "outputs": [
    {
     "data": {
      "text/html": [
       "<div>\n",
       "<style scoped>\n",
       "    .dataframe tbody tr th:only-of-type {\n",
       "        vertical-align: middle;\n",
       "    }\n",
       "\n",
       "    .dataframe tbody tr th {\n",
       "        vertical-align: top;\n",
       "    }\n",
       "\n",
       "    .dataframe thead th {\n",
       "        text-align: right;\n",
       "    }\n",
       "</style>\n",
       "<table border=\"1\" class=\"dataframe\">\n",
       "  <thead>\n",
       "    <tr style=\"text-align: right;\">\n",
       "      <th></th>\n",
       "      <th>_id</th>\n",
       "      <th>url</th>\n",
       "      <th>cert_PEM</th>\n",
       "      <th>keyHash</th>\n",
       "      <th>bits</th>\n",
       "      <th>is_only_pub</th>\n",
       "      <th>key_type</th>\n",
       "      <th>key_PEM</th>\n",
       "      <th>rsa_PEM</th>\n",
       "    </tr>\n",
       "  </thead>\n",
       "  <tbody>\n",
       "    <tr>\n",
       "      <td>0</td>\n",
       "      <td>{'$oid': '5e80d58b6a0f8ddedd7e244d'}</td>\n",
       "      <td>https://0-9.pl</td>\n",
       "      <td>{'$binary': {'base64': 'LS0tLS1CRUdJTiBDRVJUSU...</td>\n",
       "      <td>41b027f4f3c04a8c8f907b26f1fea99e</td>\n",
       "      <td>2048</td>\n",
       "      <td>True</td>\n",
       "      <td>&lt;class 'cryptography.hazmat.backends.openssl.r...</td>\n",
       "      <td>-----BEGIN PUBLIC KEY-----\\nMIIBIjANBgkqhkiG9w...</td>\n",
       "      <td>-----BEGIN RSA PUBLIC KEY-----\\nMIIBCgKCAQEAwJ...</td>\n",
       "    </tr>\n",
       "    <tr>\n",
       "      <td>1</td>\n",
       "      <td>{'$oid': '5e80d58b6a0f8ddedd7e244e'}</td>\n",
       "      <td>https://01-studio.pl</td>\n",
       "      <td>{'$binary': {'base64': 'LS0tLS1CRUdJTiBDRVJUSU...</td>\n",
       "      <td>ff91bc7d9305e8675286793cf7c61705</td>\n",
       "      <td>2048</td>\n",
       "      <td>True</td>\n",
       "      <td>&lt;class 'cryptography.hazmat.backends.openssl.r...</td>\n",
       "      <td>-----BEGIN PUBLIC KEY-----\\nMIIBIjANBgkqhkiG9w...</td>\n",
       "      <td>-----BEGIN RSA PUBLIC KEY-----\\nMIIBCgKCAQEAub...</td>\n",
       "    </tr>\n",
       "    <tr>\n",
       "      <td>2</td>\n",
       "      <td>{'$oid': '5e80d58b6a0f8ddedd7e244f'}</td>\n",
       "      <td>https://0155oddzialsiemianowice.all.pl</td>\n",
       "      <td>{'$binary': {'base64': 'LS0tLS1CRUdJTiBDRVJUSU...</td>\n",
       "      <td>dd7a9119d13f02985eca4e3f46be7ac3</td>\n",
       "      <td>2048</td>\n",
       "      <td>True</td>\n",
       "      <td>&lt;class 'cryptography.hazmat.backends.openssl.r...</td>\n",
       "      <td>-----BEGIN PUBLIC KEY-----\\nMIIBIjANBgkqhkiG9w...</td>\n",
       "      <td>-----BEGIN RSA PUBLIC KEY-----\\nMIIBCgKCAQEAwd...</td>\n",
       "    </tr>\n",
       "    <tr>\n",
       "      <td>3</td>\n",
       "      <td>{'$oid': '5e80d58c6a0f8ddedd7e2450'}</td>\n",
       "      <td>https://001.apetete.pl</td>\n",
       "      <td>{'$binary': {'base64': 'LS0tLS1CRUdJTiBDRVJUSU...</td>\n",
       "      <td>b77c5505a21fa73efe817292123d5fe6</td>\n",
       "      <td>2048</td>\n",
       "      <td>True</td>\n",
       "      <td>&lt;class 'cryptography.hazmat.backends.openssl.r...</td>\n",
       "      <td>-----BEGIN PUBLIC KEY-----\\nMIIBIjANBgkqhkiG9w...</td>\n",
       "      <td>-----BEGIN RSA PUBLIC KEY-----\\nMIIBCgKCAQEA1b...</td>\n",
       "    </tr>\n",
       "    <tr>\n",
       "      <td>4</td>\n",
       "      <td>{'$oid': '5e80d58c6a0f8ddedd7e2451'}</td>\n",
       "      <td>https://01moto.pl</td>\n",
       "      <td>{'$binary': {'base64': 'LS0tLS1CRUdJTiBDRVJUSU...</td>\n",
       "      <td>34a6894ef9e6e85758657050b904fb84</td>\n",
       "      <td>2048</td>\n",
       "      <td>True</td>\n",
       "      <td>&lt;class 'cryptography.hazmat.backends.openssl.r...</td>\n",
       "      <td>-----BEGIN PUBLIC KEY-----\\nMIIBIjANBgkqhkiG9w...</td>\n",
       "      <td>-----BEGIN RSA PUBLIC KEY-----\\nMIIBCgKCAQEAlz...</td>\n",
       "    </tr>\n",
       "  </tbody>\n",
       "</table>\n",
       "</div>"
      ],
      "text/plain": [
       "                                    _id  \\\n",
       "0  {'$oid': '5e80d58b6a0f8ddedd7e244d'}   \n",
       "1  {'$oid': '5e80d58b6a0f8ddedd7e244e'}   \n",
       "2  {'$oid': '5e80d58b6a0f8ddedd7e244f'}   \n",
       "3  {'$oid': '5e80d58c6a0f8ddedd7e2450'}   \n",
       "4  {'$oid': '5e80d58c6a0f8ddedd7e2451'}   \n",
       "\n",
       "                                      url  \\\n",
       "0                          https://0-9.pl   \n",
       "1                    https://01-studio.pl   \n",
       "2  https://0155oddzialsiemianowice.all.pl   \n",
       "3                  https://001.apetete.pl   \n",
       "4                       https://01moto.pl   \n",
       "\n",
       "                                            cert_PEM  \\\n",
       "0  {'$binary': {'base64': 'LS0tLS1CRUdJTiBDRVJUSU...   \n",
       "1  {'$binary': {'base64': 'LS0tLS1CRUdJTiBDRVJUSU...   \n",
       "2  {'$binary': {'base64': 'LS0tLS1CRUdJTiBDRVJUSU...   \n",
       "3  {'$binary': {'base64': 'LS0tLS1CRUdJTiBDRVJUSU...   \n",
       "4  {'$binary': {'base64': 'LS0tLS1CRUdJTiBDRVJUSU...   \n",
       "\n",
       "                            keyHash  bits is_only_pub  \\\n",
       "0  41b027f4f3c04a8c8f907b26f1fea99e  2048        True   \n",
       "1  ff91bc7d9305e8675286793cf7c61705  2048        True   \n",
       "2  dd7a9119d13f02985eca4e3f46be7ac3  2048        True   \n",
       "3  b77c5505a21fa73efe817292123d5fe6  2048        True   \n",
       "4  34a6894ef9e6e85758657050b904fb84  2048        True   \n",
       "\n",
       "                                            key_type  \\\n",
       "0  <class 'cryptography.hazmat.backends.openssl.r...   \n",
       "1  <class 'cryptography.hazmat.backends.openssl.r...   \n",
       "2  <class 'cryptography.hazmat.backends.openssl.r...   \n",
       "3  <class 'cryptography.hazmat.backends.openssl.r...   \n",
       "4  <class 'cryptography.hazmat.backends.openssl.r...   \n",
       "\n",
       "                                             key_PEM  \\\n",
       "0  -----BEGIN PUBLIC KEY-----\\nMIIBIjANBgkqhkiG9w...   \n",
       "1  -----BEGIN PUBLIC KEY-----\\nMIIBIjANBgkqhkiG9w...   \n",
       "2  -----BEGIN PUBLIC KEY-----\\nMIIBIjANBgkqhkiG9w...   \n",
       "3  -----BEGIN PUBLIC KEY-----\\nMIIBIjANBgkqhkiG9w...   \n",
       "4  -----BEGIN PUBLIC KEY-----\\nMIIBIjANBgkqhkiG9w...   \n",
       "\n",
       "                                             rsa_PEM  \n",
       "0  -----BEGIN RSA PUBLIC KEY-----\\nMIIBCgKCAQEAwJ...  \n",
       "1  -----BEGIN RSA PUBLIC KEY-----\\nMIIBCgKCAQEAub...  \n",
       "2  -----BEGIN RSA PUBLIC KEY-----\\nMIIBCgKCAQEAwd...  \n",
       "3  -----BEGIN RSA PUBLIC KEY-----\\nMIIBCgKCAQEA1b...  \n",
       "4  -----BEGIN RSA PUBLIC KEY-----\\nMIIBCgKCAQEAlz...  "
      ]
     },
     "execution_count": 15,
     "metadata": {},
     "output_type": "execute_result"
    }
   ],
   "source": [
    "df_certs.head()"
   ]
  },
  {
   "cell_type": "markdown",
   "metadata": {},
   "source": [
    "Example RSA public key:\n",
    "\n",
    "##### 30\n",
    "The value 30 is used to signify 'sequence';\n",
    "this is a container that carries a list of DER-encoded objects.\n",
    "##### 82 01 0a\n",
    "how many bytes are in the DER-encoding of the object, not counting the object type and the length field\n",
    "##### 02\n",
    "the value 02 is used to signify 'integer'\n",
    "##### 82 01 01\n",
    "this is the length of the integer\n",
    "##### 0a 02 82 01 01 00 c0 9f fe 42 c2 78 0e ac 01 c7 cf dd ce ef d4 73 f1 de 9c 00 5c 40 51 c0 55 e2 0b 9b 22 55 ea bf 22 1c 28 3a d4 fc 8f c8 47 92 89 4f 1c 48 ab 9c 4f 1b 56 71 d2 17 4f 62 04 b4 c3 69 2f 96 cf 5c 76 ba 21 b6 b0 0d 94 d1 50 59 3e c1 a4 b4 8a c2 71 c7 b4 c9 ad 2a 52 96 22 0b e2 65 34 d7 37 d2 4c 11 2f dd 64 91 31 c2 30 33 56 c5 c7 65 61 8e 5a cd 43 01 2e 9f 96 57 92 78 f9 70 e6 e4 bc 9e 27 59 70 f1 71 c9 14 7d e3 7e 34 16 0d 52 ee 7e 36 cf d1 de df e7 2b a1 30 64 92 da 98 bf 33 8e 2f 55 11 38 ba 86 08 50 fa e3 59 c4 1b 03 1c f7 68 3b dd a9 20 38 d7 63 b6 ed 44 42 68 bb 10 a0 5c fa 8d c9 3a 9a aa bd 82 56 24 a2 13 dd 27 5e e5 9b f2 aa bd 17 4e f8 f6 67 b1 f9 b8 71 63 63 f8 9d 90 ed be 71 5e 75 b8 b8 b8 6c 99 83 06 06 3b 2e d4 0c 09 1c 46 5d 03 99 72 c8 35 a1 ba 93\n",
    "These 257 bytes are the actual integer, in bigendian format. Thi is the modulus (n)\n",
    "##### 02\n",
    "This signifies that the second element in the sequence encodes an integer\n",
    "##### 03\n",
    "This signifies that this integer is encoded in 3 bytes\n",
    "##### 01 00 01\n",
    "This signifies that the encoded integer is 0x10001 == 65537. This is the public exponent (e)"
   ]
  },
  {
   "cell_type": "code",
   "execution_count": 12,
   "metadata": {},
   "outputs": [],
   "source": [
    "pubkey = rsa.PublicKey.load_pkcs1(df_certs['rsa_PEM'][0])"
   ]
  },
  {
   "cell_type": "code",
   "execution_count": 13,
   "metadata": {},
   "outputs": [
    {
     "data": {
      "text/plain": [
       "24316650143925263798975353451544558720202243306713378986550343403861565210940154892571624037013068659592825249491774227453822920545978299912244870471108708602499675598756269531856634152865618112621215500780324266215294616712049828343544600802691338527817281043488390909388200181588113834304909211782421859896737585861389643408556662401508734297297907798442814316811652417169965395748828862866493056835925179831392143801799502870710211436897157651509053788567479183420857176900076611276902451169443429274970633204721166715865660087734594683509175824083658064998976059999980029658722935807910915895854769094938664745619"
      ]
     },
     "execution_count": 13,
     "metadata": {},
     "output_type": "execute_result"
    }
   ],
   "source": [
    "pubkey.n"
   ]
  },
  {
   "cell_type": "code",
   "execution_count": 14,
   "metadata": {},
   "outputs": [],
   "source": [
    "pubkey_list = []\n",
    "for site in df_certs['rsa_PEM']:\n",
    "    pubkey = rsa.PublicKey.load_pkcs1(site)\n",
    "    pubkey_list.append(pubkey)"
   ]
  },
  {
   "cell_type": "markdown",
   "metadata": {},
   "source": [
    "#### e is always 65537"
   ]
  },
  {
   "cell_type": "code",
   "execution_count": 18,
   "metadata": {},
   "outputs": [],
   "source": [
    "numbers = []\n",
    "for pubkey in pubkey_list:\n",
    "    numbers.append(pubkey.n)"
   ]
  },
  {
   "cell_type": "code",
   "execution_count": 44,
   "metadata": {},
   "outputs": [],
   "source": [
    "def producttree(X):\n",
    "    result = [X]\n",
    "    while len(X) > 1:\n",
    "        X = [np.prod(X[int(i*2):int((i+1)*2)]) for i in range(int((len(X)+1)/2))]\n",
    "        result.append(X)\n",
    "    return result\n",
    "\n",
    "def batchgcd_faster(X):\n",
    "    counter = 1\n",
    "    prods = producttree(X)\n",
    "    R = prods.pop()\n",
    "    while prods:\n",
    "        X = prods.pop()     \n",
    "        R = [R[math.floor(i/2)] % X[i]**2 for i in range(len(X))]\n",
    "    return [math.gcd(r//n,n) for r,n in zip(R,X)]"
   ]
  },
  {
   "cell_type": "code",
   "execution_count": 45,
   "metadata": {},
   "outputs": [
    {
     "data": {
      "text/plain": [
       "106447"
      ]
     },
     "execution_count": 45,
     "metadata": {},
     "output_type": "execute_result"
    }
   ],
   "source": [
    "len(numbers)"
   ]
  },
  {
   "cell_type": "code",
   "execution_count": 53,
   "metadata": {},
   "outputs": [
    {
     "name": "stdout",
     "output_type": "stream",
     "text": [
      "Wall time: 3.99 ms\n"
     ]
    }
   ],
   "source": [
    "%%time\n",
    "result = batchgcd_faster(numbers[:10])"
   ]
  },
  {
   "cell_type": "code",
   "execution_count": 54,
   "metadata": {},
   "outputs": [
    {
     "name": "stdout",
     "output_type": "stream",
     "text": [
      "Wall time: 483 ms\n"
     ]
    }
   ],
   "source": [
    "%%time\n",
    "result = batchgcd_faster(numbers[:100])"
   ]
  },
  {
   "cell_type": "code",
   "execution_count": 66,
   "metadata": {},
   "outputs": [
    {
     "name": "stdout",
     "output_type": "stream",
     "text": [
      "Wall time: 14min 15s\n"
     ]
    }
   ],
   "source": [
    "%%time\n",
    "result = batchgcd_faster(numbers[:5000])"
   ]
  },
  {
   "cell_type": "code",
   "execution_count": 67,
   "metadata": {},
   "outputs": [
    {
     "data": {
      "text/plain": [
       "[]"
      ]
     },
     "execution_count": 67,
     "metadata": {},
     "output_type": "execute_result"
    }
   ],
   "source": [
    "[(i, numbers[i]) for i, e in enumerate(result) if e != 1]"
   ]
  },
  {
   "cell_type": "code",
   "execution_count": 61,
   "metadata": {},
   "outputs": [
    {
     "name": "stdout",
     "output_type": "stream",
     "text": [
      "Wall time: 2.62 s\n"
     ]
    }
   ],
   "source": [
    "%%time\n",
    "tmp = producttree(numbers[:2000])"
   ]
  },
  {
   "cell_type": "code",
   "execution_count": 65,
   "metadata": {},
   "outputs": [
    {
     "data": {
      "text/plain": [
       "2000"
      ]
     },
     "execution_count": 65,
     "metadata": {},
     "output_type": "execute_result"
    }
   ],
   "source": [
    "len(tmp[0])"
   ]
  },
  {
   "cell_type": "markdown",
   "metadata": {},
   "source": [
    "## Parallel batch GCD"
   ]
  },
  {
   "cell_type": "markdown",
   "metadata": {},
   "source": [
    "https://vntkumar8.github.io/docs/iciss_slide.pdf"
   ]
  },
  {
   "cell_type": "markdown",
   "metadata": {},
   "source": [
    "https://books.google.pl/books?id=HTZCDwAAQBAJ&pg=PA307&lpg=PA307&dq=Parallelized+Common+Factor+Attack+on+RSA&source=bl&ots=8SJKyIomDk&sig=ACfU3U3zui_H9Amm37bWhzYn6xmh71cN3A&hl=xx-pirate&sa=X&ved=2ahUKEwiciMrN-c_oAhWM3KQKHcEMB4kQ6AEwB3oECAsQJQ#v=onepage&q&f=false"
   ]
  }
 ],
 "metadata": {
  "kernelspec": {
   "display_name": "Python 3",
   "language": "python",
   "name": "python3"
  },
  "language_info": {
   "codemirror_mode": {
    "name": "ipython",
    "version": 3
   },
   "file_extension": ".py",
   "mimetype": "text/x-python",
   "name": "python",
   "nbconvert_exporter": "python",
   "pygments_lexer": "ipython3",
   "version": "3.7.4"
  }
 },
 "nbformat": 4,
 "nbformat_minor": 2
}
