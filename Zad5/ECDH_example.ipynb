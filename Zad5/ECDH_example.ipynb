{
 "cells": [
  {
   "cell_type": "markdown",
   "metadata": {},
   "source": [
    "## Elliptic Curve Diffie–Hellman Key Exchange:\n",
    "\n",
    "#### Sources:\n",
    "[ECC: a gentle introduction](andrea.corbellini.name/2015/05/23/elliptic-curve-cryptography-finite-fields-and-discrete-logarithms)\\\n",
    "(https://github.com/andreacorbellini/ecc/blob/master/scripts/ecdhe.py)"
   ]
  },
  {
   "cell_type": "code",
   "execution_count": 7,
   "metadata": {},
   "outputs": [],
   "source": [
    "from ecc.scripts.ecdhe import *\n",
    "from math import sqrt"
   ]
  },
  {
   "cell_type": "code",
   "execution_count": 23,
   "metadata": {},
   "outputs": [],
   "source": [
    "#p - large prime\n",
    "curve = EllipticCurve('test',p=29,a=-1,b=1,g=None,n=None,h=None)\n",
    "\n",
    "#https://mathworld.wolfram.com/SingularPoint.html\n",
    "assert 4*curve.a**3+27*curve.b**2 != 0\n",
    "\n",
    "#calculating N, n, h=N/n \n",
    "N_list=[]\n",
    "for G in P_list:\n",
    "    P=G\n",
    "    N_set=set()\n",
    "    for _ in range(10**3):\n",
    "        N_set.update([P])\n",
    "        P=point_add(curve,P,G)\n",
    "    N_list.append(len(N_set))\n",
    "    \n",
    "N=max(N_list) #N=37\n",
    "n=N\n",
    "h=1 # h=N/n\n",
    "\n",
    "curve = EllipticCurve('test',p=curve.p\n",
    "                      ,a=curve.a,b=curve.b,\n",
    "                      g=None,\n",
    "                      n=n,h=h)\n",
    "#calculating G(x,y)\n",
    "y2=lambda x: (x**3+a*x+b) % p\n",
    "#get all_points\n",
    "P_list={ ( x%p , int(sqrt(y2(x)))) for x in range(10**3) if sqrt(y2(x)) in range(p) }\n",
    "\n",
    "#get random point\n",
    "G=random.sample(P_list,1)[0]\n",
    "assert scalar_mult(curve,h,G)!=(0,0)"
   ]
  },
  {
   "cell_type": "code",
   "execution_count": 24,
   "metadata": {},
   "outputs": [],
   "source": [
    "curve = EllipticCurve(\n",
    "    'test',\n",
    "    # Field characteristic.\n",
    "    p=29,\n",
    "    # Curve coefficients.\n",
    "    a=-1,\n",
    "    b=1,\n",
    "    # Base point.\n",
    "    g=G,\n",
    "    # Subgroup order.\n",
    "    n=37,\n",
    "    # Subgroup cofactor. h=N/n\n",
    "    h=1,\n",
    ")"
   ]
  },
  {
   "cell_type": "markdown",
   "metadata": {},
   "source": [
    "## Key exchange"
   ]
  },
  {
   "cell_type": "code",
   "execution_count": 25,
   "metadata": {},
   "outputs": [
    {
     "name": "stdout",
     "output_type": "stream",
     "text": [
      "Curve: test\n",
      "Alice's private key: 23\n",
      "Alice's public  key: (27, 16)\n",
      "Bob's private key: 1\n",
      "Bob's public  key: (28, 1)\n",
      "Shared secret: (27, 16)\n"
     ]
    }
   ],
   "source": [
    "print('Curve:', curve.name)\n",
    "\n",
    "# Alice generates her own keypair.\n",
    "alice_private_key, alice_public_key = make_keypair(curve)\n",
    "print(\"Alice's private key:\", alice_private_key)\n",
    "print(\"Alice's public  key:\",alice_public_key)\n",
    "\n",
    "# Bob generates his own key pair.\n",
    "bob_private_key, bob_public_key = make_keypair(curve)\n",
    "print(\"Bob's private key:\", bob_private_key)\n",
    "print(\"Bob's public  key:\",bob_public_key)\n",
    "\n",
    "# Alice and Bob exchange their public keys and calculate the shared secret.\n",
    "s1 = scalar_mult(curve,alice_private_key, bob_public_key)\n",
    "s2 = scalar_mult(curve,bob_private_key, alice_public_key)\n",
    "assert s1 == s2\n",
    "\n",
    "print('Shared secret:',s1)"
   ]
  },
  {
   "cell_type": "code",
   "execution_count": 33,
   "metadata": {},
   "outputs": [],
   "source": [
    "#\"Now that Alice and Bob have obtained the shared secret, they can exchange data with symmetric encryption.\"\n",
    "#XOR toy example below.\n",
    "\n",
    "#Alice\n",
    "msg_in=random.randrange(0,p)\n",
    "c=msg_in ^ s1[0]\n",
    "\n",
    "#Bob\n",
    "msg_out = c ^ s2[0]\n",
    "\n",
    "assert msg_in==msg_out"
   ]
  },
  {
   "cell_type": "code",
   "execution_count": null,
   "metadata": {},
   "outputs": [],
   "source": []
  }
 ],
 "metadata": {
  "kernelspec": {
   "display_name": "Python 3",
   "language": "python",
   "name": "python3"
  },
  "language_info": {
   "codemirror_mode": {
    "name": "ipython",
    "version": 3
   },
   "file_extension": ".py",
   "mimetype": "text/x-python",
   "name": "python",
   "nbconvert_exporter": "python",
   "pygments_lexer": "ipython3",
   "version": "3.6.9"
  }
 },
 "nbformat": 4,
 "nbformat_minor": 4
}
