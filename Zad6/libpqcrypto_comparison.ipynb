{
 "cells": [
  {
   "cell_type": "markdown",
   "metadata": {},
   "source": [
    "## Python vs C/C++ implementation\n",
    "\n",
    "We observe **300x speedup**"
   ]
  },
  {
   "cell_type": "code",
   "execution_count": 1,
   "metadata": {},
   "outputs": [],
   "source": [
    "#https://libpqcrypto.org/install.html\n",
    "import pqcrypto\n",
    "\n",
    "#https://github.com/nakov/PyNewHope\n",
    "from pynewhope import newhope"
   ]
  },
  {
   "cell_type": "code",
   "execution_count": 2,
   "metadata": {},
   "outputs": [],
   "source": [
    "pk,sk = pqcrypto.kem.newhope1024cca.keypair() #publickey, secretkey\n",
    "c,kB = pqcrypto.kem.newhope1024cca.enc(pk)\n",
    "kA = pqcrypto.kem.newhope1024cca.dec(c,sk)\n",
    "assert kB == kA"
   ]
  },
  {
   "cell_type": "code",
   "execution_count": 3,
   "metadata": {},
   "outputs": [],
   "source": [
    "sk,pk = newhope.keygen()\n",
    "kB,c = newhope.sharedB(pk)\n",
    "kA = newhope.sharedA(c, sk)\n",
    "assert kB==kA"
   ]
  },
  {
   "cell_type": "code",
   "execution_count": 4,
   "metadata": {},
   "outputs": [],
   "source": [
    "def convert_key(sharedKey):\n",
    "    return ''.join([chr(byte) for byte in sharedKey])"
   ]
  },
  {
   "cell_type": "code",
   "execution_count": 5,
   "metadata": {},
   "outputs": [],
   "source": [
    "def newhope_ex_pqcrypto():\n",
    "    pk,sk = pqcrypto.kem.newhope1024cca.keypair()\n",
    "    c,kB = pqcrypto.kem.newhope1024cca.enc(pk)\n",
    "    kA = pqcrypto.kem.newhope1024cca.dec(c,sk)\n",
    "    \n",
    "def newhope_ex_python():\n",
    "    sk,pk = newhope.keygen()\n",
    "    kB,c = newhope.sharedB(pk)\n",
    "    kA = newhope.sharedA(c, sk)"
   ]
  },
  {
   "cell_type": "code",
   "execution_count": 6,
   "metadata": {},
   "outputs": [
    {
     "name": "stdout",
     "output_type": "stream",
     "text": [
      "190 µs ± 1.95 µs per loop (mean ± std. dev. of 7 runs, 10000 loops each)\n"
     ]
    }
   ],
   "source": [
    "%%timeit\n",
    "newhope_ex_pqcrypto()"
   ]
  },
  {
   "cell_type": "code",
   "execution_count": 7,
   "metadata": {},
   "outputs": [
    {
     "name": "stdout",
     "output_type": "stream",
     "text": [
      "58.1 ms ± 717 µs per loop (mean ± std. dev. of 7 runs, 10 loops each)\n"
     ]
    }
   ],
   "source": [
    "%%timeit\n",
    "newhope_ex_python()"
   ]
  },
  {
   "cell_type": "markdown",
   "metadata": {},
   "source": [
    "## Comparison of different methods"
   ]
  },
  {
   "cell_type": "code",
   "execution_count": 8,
   "metadata": {},
   "outputs": [],
   "source": [
    "import time\n",
    "import gc\n",
    "\n",
    "def key_ex(algo,name):\n",
    "    start=time.time()\n",
    "    reps=10**2\n",
    "    for _ in range(reps):\n",
    "        pk,sk = algo.keypair()\n",
    "        c,kB = algo.enc(pk)\n",
    "        kA = algo.dec(c,sk)\n",
    "    assert kB == kA\n",
    "    delta=(time.time()-start)/reps\n",
    "    return name,len(pk),delta"
   ]
  },
  {
   "cell_type": "code",
   "execution_count": 9,
   "metadata": {},
   "outputs": [],
   "source": [
    "#all produce 32 bytes session key\n",
    "todo='''firesaber kindi256342\n",
    "        kyber1024 kyber512 kyber1024 kyber768\n",
    "        lightsaber mceliece6960119 mceliece8192128\n",
    "        newhope1024cca newhope512cca\n",
    "        ntruhrss701 ntrulpr4591761\n",
    "        ramstakers216091 ramstakers756839\n",
    "        saber sntrup4591761'''.split()"
   ]
  },
  {
   "cell_type": "code",
   "execution_count": 10,
   "metadata": {},
   "outputs": [
    {
     "name": "stdout",
     "output_type": "stream",
     "text": [
      "CPU times: user 5min 1s, sys: 31.7 ms, total: 5min 1s\n",
      "Wall time: 5min 1s\n"
     ]
    }
   ],
   "source": [
    "%%time\n",
    "gc.disable()\n",
    "stats=[ key_ex(algo,name) for name,algo in pqcrypto.kem.__dict__.items() if name in todo] \n",
    "gc.enable()"
   ]
  },
  {
   "cell_type": "code",
   "execution_count": 11,
   "metadata": {},
   "outputs": [
    {
     "data": {
      "text/html": [
       "<div>\n",
       "<style scoped>\n",
       "    .dataframe tbody tr th:only-of-type {\n",
       "        vertical-align: middle;\n",
       "    }\n",
       "\n",
       "    .dataframe tbody tr th {\n",
       "        vertical-align: top;\n",
       "    }\n",
       "\n",
       "    .dataframe thead th {\n",
       "        text-align: right;\n",
       "    }\n",
       "</style>\n",
       "<table border=\"1\" class=\"dataframe\">\n",
       "  <thead>\n",
       "    <tr style=\"text-align: right;\">\n",
       "      <th></th>\n",
       "      <th>pub_size</th>\n",
       "      <th>speed</th>\n",
       "    </tr>\n",
       "    <tr>\n",
       "      <th>name</th>\n",
       "      <th></th>\n",
       "      <th></th>\n",
       "    </tr>\n",
       "  </thead>\n",
       "  <tbody>\n",
       "    <tr>\n",
       "      <td>firesaber</td>\n",
       "      <td>1312</td>\n",
       "      <td>0.000415</td>\n",
       "    </tr>\n",
       "    <tr>\n",
       "      <td>kindi256342</td>\n",
       "      <td>1184</td>\n",
       "      <td>0.000319</td>\n",
       "    </tr>\n",
       "    <tr>\n",
       "      <td>kyber1024</td>\n",
       "      <td>1440</td>\n",
       "      <td>0.000155</td>\n",
       "    </tr>\n",
       "    <tr>\n",
       "      <td>kyber512</td>\n",
       "      <td>736</td>\n",
       "      <td>0.000077</td>\n",
       "    </tr>\n",
       "    <tr>\n",
       "      <td>kyber768</td>\n",
       "      <td>1088</td>\n",
       "      <td>0.000139</td>\n",
       "    </tr>\n",
       "    <tr>\n",
       "      <td>lightsaber</td>\n",
       "      <td>672</td>\n",
       "      <td>0.000138</td>\n",
       "    </tr>\n",
       "    <tr>\n",
       "      <td>mceliece6960119</td>\n",
       "      <td>1047319</td>\n",
       "      <td>1.695919</td>\n",
       "    </tr>\n",
       "    <tr>\n",
       "      <td>mceliece8192128</td>\n",
       "      <td>1357824</td>\n",
       "      <td>1.229356</td>\n",
       "    </tr>\n",
       "    <tr>\n",
       "      <td>newhope1024cca</td>\n",
       "      <td>1824</td>\n",
       "      <td>0.000188</td>\n",
       "    </tr>\n",
       "    <tr>\n",
       "      <td>newhope512cca</td>\n",
       "      <td>928</td>\n",
       "      <td>0.000101</td>\n",
       "    </tr>\n",
       "    <tr>\n",
       "      <td>ntruhrss701</td>\n",
       "      <td>1138</td>\n",
       "      <td>0.000189</td>\n",
       "    </tr>\n",
       "    <tr>\n",
       "      <td>ntrulpr4591761</td>\n",
       "      <td>1047</td>\n",
       "      <td>0.000122</td>\n",
       "    </tr>\n",
       "    <tr>\n",
       "      <td>ramstakers216091</td>\n",
       "      <td>27044</td>\n",
       "      <td>0.015699</td>\n",
       "    </tr>\n",
       "    <tr>\n",
       "      <td>ramstakers756839</td>\n",
       "      <td>94637</td>\n",
       "      <td>0.068412</td>\n",
       "    </tr>\n",
       "    <tr>\n",
       "      <td>saber</td>\n",
       "      <td>992</td>\n",
       "      <td>0.000243</td>\n",
       "    </tr>\n",
       "    <tr>\n",
       "      <td>sntrup4591761</td>\n",
       "      <td>1218</td>\n",
       "      <td>0.002494</td>\n",
       "    </tr>\n",
       "  </tbody>\n",
       "</table>\n",
       "</div>"
      ],
      "text/plain": [
       "                  pub_size     speed\n",
       "name                                \n",
       "firesaber             1312  0.000415\n",
       "kindi256342           1184  0.000319\n",
       "kyber1024             1440  0.000155\n",
       "kyber512               736  0.000077\n",
       "kyber768              1088  0.000139\n",
       "lightsaber             672  0.000138\n",
       "mceliece6960119    1047319  1.695919\n",
       "mceliece8192128    1357824  1.229356\n",
       "newhope1024cca        1824  0.000188\n",
       "newhope512cca          928  0.000101\n",
       "ntruhrss701           1138  0.000189\n",
       "ntrulpr4591761        1047  0.000122\n",
       "ramstakers216091     27044  0.015699\n",
       "ramstakers756839     94637  0.068412\n",
       "saber                  992  0.000243\n",
       "sntrup4591761         1218  0.002494"
      ]
     },
     "execution_count": 11,
     "metadata": {},
     "output_type": "execute_result"
    }
   ],
   "source": [
    "import pandas as pd\n",
    "\n",
    "df = pd.DataFrame(stats)\n",
    "df.columns=['name','pub_size','speed']\n",
    "df.set_index('name',inplace=True)\n",
    "df"
   ]
  },
  {
   "cell_type": "code",
   "execution_count": 12,
   "metadata": {},
   "outputs": [],
   "source": [
    "df=df.drop(['mceliece6960119','mceliece8192128','ramstakers216091','ramstakers756839'])"
   ]
  },
  {
   "cell_type": "code",
   "execution_count": 14,
   "metadata": {},
   "outputs": [
    {
     "data": {
      "image/png": "[encoded data removed]",
      "text/plain": [
       "<Figure size 720x432 with 1 Axes>"
      ]
     },
     "metadata": {
      "needs_background": "light"
     },
     "output_type": "display_data"
    }
   ],
   "source": [
    "ax=df.plot('speed','pub_size', kind='scatter',logx=True,grid=True,figsize=(10,6),s=100)\n",
    "ax.set_title(\"PQ Cryptography algo public key size vs. speed\")\n",
    "ax.set_xlim(10**-5,10**-2)\n",
    "# loop through each x,y pair\n",
    "for i,j,name in zip(df.speed,df.pub_size,df.index):\n",
    "    ax.annotate(name,  xy=(i+i*.1, j-12))"
   ]
  },
  {
   "cell_type": "code",
   "execution_count": null,
   "metadata": {},
   "outputs": [],
   "source": []
  }
 ],
 "metadata": {
  "kernelspec": {
   "display_name": "Python 3",
   "language": "python",
   "name": "python3"
  },
  "language_info": {
   "codemirror_mode": {
    "name": "ipython",
    "version": 3
   },
   "file_extension": ".py",
   "mimetype": "text/x-python",
   "name": "python",
   "nbconvert_exporter": "python",
   "pygments_lexer": "ipython3",
   "version": "3.7.3"
  }
 },
 "nbformat": 4,
 "nbformat_minor": 2
}
